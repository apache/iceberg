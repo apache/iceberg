{
 "cells": [
  {
   "cell_type": "code",
   "execution_count": 1,
   "id": "c14d62b0",
   "metadata": {},
   "outputs": [],
   "source": [
    "from pyiceberg.catalog.hive import HiveCatalog"
   ]
  },
  {
   "cell_type": "code",
   "execution_count": 2,
   "id": "58f32611",
   "metadata": {},
   "outputs": [],
   "source": [
    "catalog = HiveCatalog(\"hive\", {}, \"thrift://localhost:9083\")"
   ]
  },
  {
   "cell_type": "code",
   "execution_count": 3,
   "id": "8d96a606",
   "metadata": {},
   "outputs": [
    {
     "data": {
      "text/plain": [
       "[('default',), ('nyc',)]"
      ]
     },
     "execution_count": 3,
     "metadata": {},
     "output_type": "execute_result"
    }
   ],
   "source": [
    "catalog.list_namespaces()"
   ]
  },
  {
   "cell_type": "code",
   "execution_count": 4,
   "id": "7294e767",
   "metadata": {},
   "outputs": [
    {
     "data": {
      "text/plain": [
       "['taxis']"
      ]
     },
     "execution_count": 4,
     "metadata": {},
     "output_type": "execute_result"
    }
   ],
   "source": [
    "catalog.list_tables(\"nyc\")"
   ]
  },
  {
   "cell_type": "code",
   "execution_count": 5,
   "id": "b6d269f9",
   "metadata": {},
   "outputs": [],
   "source": [
    "catalog.load_table((\"nyc\", \"taxis\"))"
   ]
  },
  {
   "cell_type": "code",
   "execution_count": 7,
   "id": "f51f1503",
   "metadata": {},
   "outputs": [],
   "source": [
    "table = catalog.load_table((\"default\", \"fokko\"))\n",
    "\n",
    "table"
   ]
  },
  {
   "cell_type": "code",
   "execution_count": 9,
   "id": "07fc0423",
   "metadata": {},
   "outputs": [
    {
     "name": "stdout",
     "output_type": "stream",
     "text": [
      "None\n"
     ]
    }
   ],
   "source": [
    "table = catalog.load_table((\"nyc\", \"taxis\"))\n",
    "\n",
    "print(table)"
   ]
  },
  {
   "cell_type": "code",
   "execution_count": null,
   "id": "783d3e85",
   "metadata": {},
   "outputs": [],
   "source": []
  }
 ],
 "metadata": {
  "kernelspec": {
   "display_name": "Python 3 (ipykernel)",
   "language": "python",
   "name": "python3"
  },
  "language_info": {
   "codemirror_mode": {
    "name": "ipython",
    "version": 3
   },
   "file_extension": ".py",
   "mimetype": "text/x-python",
   "name": "python",
   "nbconvert_exporter": "python",
   "pygments_lexer": "ipython3",
   "version": "3.9.13"
  }
 },
 "nbformat": 4,
 "nbformat_minor": 5
}
